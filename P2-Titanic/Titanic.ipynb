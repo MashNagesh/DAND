{
 "cells": [
  {
   "cell_type": "markdown",
   "metadata": {},
   "source": [
    "# TITANIC DATA ANALYSIS\n",
    "- The Titanic Data Set has been chosen for this Data Analysis project"
   ]
  },
  {
   "cell_type": "markdown",
   "metadata": {},
   "source": [
    "#### PRIMARY QUESTION\n",
    "What are the factors that influenced the survival of the passengers?\n",
    "Breaking down the question to check if a combination of related parameters would influence the survival rate \n",
    "##### QUESTIONS TO AID ANALYSIS\n",
    "Questions posed to analyse the Survival  and arrive at the co-relations\n",
    "\n",
    "1.Did the individual statistics affect the Survival? \n",
    "\n",
    "  -Age modified to -Adult/Child(aged <14) status\n",
    "\n",
    "  -Sex\n",
    "\n",
    "  \n",
    "2.Did travelling together with family affect the Survival?\n",
    "\n",
    "  -SibSp\n",
    "    \n",
    "  -Parch\n",
    "\n",
    "3.Did the Socio economic status affect the Survial?\n",
    "\n",
    "  -Pclass\n",
    "    \n",
    "  -Fare\n",
    "\n",
    "  -Cabin\n",
    "\n",
    "4.Did the port of embarkation affect the Survival?\n",
    "\n",
    "  -Embarked\n",
    "\n",
    "5.Did the Title in the name(which is a combination of individual + class position)affect the survival\n",
    "\n",
    "  -Mr./Miss/Master/Rev in the Name field\n",
    "\n",
    "The below analysis will focus on answering the question and various steps of DATA ANALYSIS have been inplemented to identify the key factors "
   ]
  },
  {
   "cell_type": "markdown",
   "metadata": {},
   "source": [
    "## LOADING THE DATA\n",
    "\n",
    "Here we are loading the entire csv file into a pandas dataframe after importing the required libraries that will be used in the analysis"
   ]
  },
  {
   "cell_type": "code",
   "execution_count": 77,
   "metadata": {
    "collapsed": false
   },
   "outputs": [],
   "source": [
    "# importing pandas,numpy for the analysis \n",
    "\n",
    "import pandas as pd\n",
    "import numpy as np\n",
    "\n",
    "#importing matplotlib and seaborn for the visualisation\n",
    "import matplotlib.pyplot as plt\n",
    "import seaborn as sns\n",
    "\n",
    "#using the Pandas readcsv command to load the entire dataset into a dataframe called Titanic_df\n",
    "\n",
    "Titanic_df = pd.read_csv('C:/Users/Mash/Desktop/Udacity/DAND-Python_Numpy/titanic_data.csv')\n"
   ]
  },
  {
   "cell_type": "markdown",
   "metadata": {},
   "source": [
    "# DATA WRANGLING\n",
    "The Titanic dataset is checked for consistency of data and also the missing values are addressed.\n",
    "Some changes made and new columns added\n",
    "\n",
    "\n",
    "-The Age column is checked for null values and mean age of the passengers replaces the null values\n",
    "\n",
    "-Age >14 has been considered Adult and Child otherwise and a new column is created accordingly with the classification\n",
    "\n",
    "-The Title of the Passenger has been extracted from the Name column to check if there is any correlaton with the survival rate\n"
   ]
  },
  {
   "cell_type": "code",
   "execution_count": 78,
   "metadata": {
    "collapsed": false
   },
   "outputs": [],
   "source": [
    "# Replace the Age columns with null values by the mean of Age\n",
    "Mean_age = np.mean(Titanic_df['Age'])\n",
    "Titanic_df['Age'] = np.where(Titanic_df['Age'].isnull() == True, Mean_age,Titanic_df['Age'])\n",
    "\n",
    "# Create a new column to classify Adult/Child\n",
    "Titanic_df['Adult_Child']= np.where(Titanic_df['Age']>14,'A','C')\n",
    "\n",
    "Titanic_df['Name']=Titanic_df['Name'].str.replace(\".\",',')\n",
    "\n",
    "# Creating a function to get the titles from the series and creating a new column Title to store the same\n",
    "def split_Name_for_Title(data):\n",
    "    return data.split(\",\")[1]\n",
    "\n",
    "Titanic_df['Title']= Titanic_df['Name'].apply(split_Name_for_Title)\n"
   ]
  },
  {
   "cell_type": "code",
   "execution_count": 19,
   "metadata": {
    "collapsed": false
   },
   "outputs": [
    {
     "data": {
      "text/html": [
       "<div>\n",
       "<table border=\"1\" class=\"dataframe\">\n",
       "  <thead>\n",
       "    <tr style=\"text-align: right;\">\n",
       "      <th></th>\n",
       "      <th>PassengerId</th>\n",
       "      <th>Survived</th>\n",
       "      <th>Pclass</th>\n",
       "      <th>Name</th>\n",
       "      <th>Sex</th>\n",
       "      <th>Age</th>\n",
       "      <th>SibSp</th>\n",
       "      <th>Parch</th>\n",
       "      <th>Ticket</th>\n",
       "      <th>Fare</th>\n",
       "      <th>Cabin</th>\n",
       "      <th>Embarked</th>\n",
       "      <th>Adult_Child</th>\n",
       "      <th>Title</th>\n",
       "    </tr>\n",
       "  </thead>\n",
       "  <tbody>\n",
       "    <tr>\n",
       "      <th>0</th>\n",
       "      <td>1</td>\n",
       "      <td>0</td>\n",
       "      <td>3</td>\n",
       "      <td>Braund, Mr, Owen Harris</td>\n",
       "      <td>male</td>\n",
       "      <td>22.0</td>\n",
       "      <td>1</td>\n",
       "      <td>0</td>\n",
       "      <td>A/5 21171</td>\n",
       "      <td>7.2500</td>\n",
       "      <td>NaN</td>\n",
       "      <td>S</td>\n",
       "      <td>A</td>\n",
       "      <td>Mr</td>\n",
       "    </tr>\n",
       "    <tr>\n",
       "      <th>1</th>\n",
       "      <td>2</td>\n",
       "      <td>1</td>\n",
       "      <td>1</td>\n",
       "      <td>Cumings, Mrs, John Bradley (Florence Briggs Th...</td>\n",
       "      <td>female</td>\n",
       "      <td>38.0</td>\n",
       "      <td>1</td>\n",
       "      <td>0</td>\n",
       "      <td>PC 17599</td>\n",
       "      <td>71.2833</td>\n",
       "      <td>C85</td>\n",
       "      <td>C</td>\n",
       "      <td>A</td>\n",
       "      <td>Mrs</td>\n",
       "    </tr>\n",
       "    <tr>\n",
       "      <th>2</th>\n",
       "      <td>3</td>\n",
       "      <td>1</td>\n",
       "      <td>3</td>\n",
       "      <td>Heikkinen, Miss, Laina</td>\n",
       "      <td>female</td>\n",
       "      <td>26.0</td>\n",
       "      <td>0</td>\n",
       "      <td>0</td>\n",
       "      <td>STON/O2. 3101282</td>\n",
       "      <td>7.9250</td>\n",
       "      <td>NaN</td>\n",
       "      <td>S</td>\n",
       "      <td>A</td>\n",
       "      <td>Miss</td>\n",
       "    </tr>\n",
       "    <tr>\n",
       "      <th>3</th>\n",
       "      <td>4</td>\n",
       "      <td>1</td>\n",
       "      <td>1</td>\n",
       "      <td>Futrelle, Mrs, Jacques Heath (Lily May Peel)</td>\n",
       "      <td>female</td>\n",
       "      <td>35.0</td>\n",
       "      <td>1</td>\n",
       "      <td>0</td>\n",
       "      <td>113803</td>\n",
       "      <td>53.1000</td>\n",
       "      <td>C123</td>\n",
       "      <td>S</td>\n",
       "      <td>A</td>\n",
       "      <td>Mrs</td>\n",
       "    </tr>\n",
       "    <tr>\n",
       "      <th>4</th>\n",
       "      <td>5</td>\n",
       "      <td>0</td>\n",
       "      <td>3</td>\n",
       "      <td>Allen, Mr, William Henry</td>\n",
       "      <td>male</td>\n",
       "      <td>35.0</td>\n",
       "      <td>0</td>\n",
       "      <td>0</td>\n",
       "      <td>373450</td>\n",
       "      <td>8.0500</td>\n",
       "      <td>NaN</td>\n",
       "      <td>S</td>\n",
       "      <td>A</td>\n",
       "      <td>Mr</td>\n",
       "    </tr>\n",
       "  </tbody>\n",
       "</table>\n",
       "</div>"
      ],
      "text/plain": [
       "   PassengerId  Survived  Pclass  \\\n",
       "0            1         0       3   \n",
       "1            2         1       1   \n",
       "2            3         1       3   \n",
       "3            4         1       1   \n",
       "4            5         0       3   \n",
       "\n",
       "                                                Name     Sex   Age  SibSp  \\\n",
       "0                            Braund, Mr, Owen Harris    male  22.0      1   \n",
       "1  Cumings, Mrs, John Bradley (Florence Briggs Th...  female  38.0      1   \n",
       "2                             Heikkinen, Miss, Laina  female  26.0      0   \n",
       "3       Futrelle, Mrs, Jacques Heath (Lily May Peel)  female  35.0      1   \n",
       "4                           Allen, Mr, William Henry    male  35.0      0   \n",
       "\n",
       "   Parch            Ticket     Fare Cabin Embarked Adult_Child  Title  \n",
       "0      0         A/5 21171   7.2500   NaN        S           A     Mr  \n",
       "1      0          PC 17599  71.2833   C85        C           A    Mrs  \n",
       "2      0  STON/O2. 3101282   7.9250   NaN        S           A   Miss  \n",
       "3      0            113803  53.1000  C123        S           A    Mrs  \n",
       "4      0            373450   8.0500   NaN        S           A     Mr  "
      ]
     },
     "execution_count": 19,
     "metadata": {},
     "output_type": "execute_result"
    }
   ],
   "source": [
    "Titanic_df.head()"
   ]
  },
  {
   "cell_type": "markdown",
   "metadata": {},
   "source": [
    "# DATA EXPLORATION AND ANALYSIS\n",
    "The survival rate is analysed agaisnt a variety of parameters to arrive at a correlation\n"
   ]
  },
  {
   "cell_type": "code",
   "execution_count": 79,
   "metadata": {
    "collapsed": false
   },
   "outputs": [
    {
     "name": "stdout",
     "output_type": "stream",
     "text": [
      "\t\t#Survived  #Onboard\n",
      "                    sum  len\n",
      "Sex    Adult_Child          \n",
      "female A            209  276\n",
      "       C             24   38\n",
      "male   A             88  538\n",
      "       C             21   39\n"
     ]
    },
    {
     "data": {
      "text/plain": [
       "<matplotlib.legend.Legend at 0x1beef5b7160>"
      ]
     },
     "execution_count": 79,
     "metadata": {},
     "output_type": "execute_result"
    },
    {
     "data": {
      "image/png": "[encoded data removed]",
      "text/plain": [
       "<matplotlib.figure.Figure at 0x1beef60bc18>"
      ]
     },
     "metadata": {},
     "output_type": "display_data"
    }
   ],
   "source": [
    "# SURVIVAL against Age which is given by Adult_Child parameter and the sex of the passenger\n",
    "#The dataframe is grouped on Sex and then subgrouped on the age and the survival count agasint  the total passengers \n",
    "#in that grouping is given below\n",
    "% matplotlib inline\n",
    "import matplotlib.patches as mpatches\n",
    "\n",
    "Survival_grouped_Age_Sex =Titanic_df.groupby(['Sex','Adult_Child'])['Survived']\n",
    "Survival_grouped_Age_Sex_Sum =Survival_grouped_Age_Sex.sum()\n",
    "Survival_grouped_Age_Sex_Count =Survival_grouped_Age_Sex.count()\n",
    "\n",
    "#Printing the statistics in numbers\n",
    "print ((\"\\t\\t\")+(\"#Survived\")+(\"  \")+(\"#Onboard\"))\n",
    "print (Survival_grouped_Age_Sex.agg([np.sum,len]))\n",
    "\n",
    "#Axis setting  a bar-chart to show the comparison\n",
    "X_axis = ('Female Adult','Female Child','Male Adult','Male Child')\n",
    "x_pos = np.arange(len(X_axis))\n",
    "#Values for the y -axis in an array\n",
    "Total_Count = Survival_grouped_Age_Sex_Count.values\n",
    "Survived_Count = Survival_grouped_Age_Sex_Sum.values\n",
    "#Setting the chart parametres\n",
    "bar_width = 0.35\n",
    "plt.bar(x_pos, Total_Count, bar_width, align='center',alpha=0.5,color='b')\n",
    "plt.bar(x_pos+bar_width, Survived_Count, bar_width, align='center', alpha=0.5,color='g')\n",
    "plt.xticks(x_pos, X_axis)\n",
    "plt.ylabel('Count of passengers')\n",
    "plt.title('Barchart as a comparison between population and survival')\n",
    "#For the Legend\n",
    "blue_patch = mpatches.Patch(color='b',alpha=0.5, label = 'Count of Pax')\n",
    "green_patch = mpatches.Patch(color='g',alpha=0.5,label = 'Survived')\n",
    "plt.legend(handles=[blue_patch,green_patch])\n",
    "\n"
   ]
  },
  {
   "cell_type": "markdown",
   "metadata": {
    "collapsed": true
   },
   "source": [
    "### OBSERVATION 1\n",
    "From the above statistics and chart ,it can be observed that the children and Female Adult had better chances of survival than Male-Adult\n"
   ]
  },
  {
   "cell_type": "code",
   "execution_count": 80,
   "metadata": {
    "collapsed": false
   },
   "outputs": [
    {
     "name": "stdout",
     "output_type": "stream",
     "text": [
      "\t#Survived  #Onboard\n",
      "             sum  len\n",
      "Family               \n",
      "Travel Solo  163  537\n",
      "With Family  179  354\n",
      "Probability of survival based on \n",
      "Family\n",
      "Travel Solo    0.303538\n",
      "With Family    0.505650\n",
      "Name: Survived, dtype: float64\n"
     ]
    },
    {
     "data": {
      "text/plain": [
       "([<matplotlib.patches.Wedge at 0x1bef0e0ca20>,\n",
       "  <matplotlib.patches.Wedge at 0x1bef0db82e8>],\n",
       " [<matplotlib.text.Text at 0x1bef0d7f080>,\n",
       "  <matplotlib.text.Text at 0x1bef0e46b00>],\n",
       " [<matplotlib.text.Text at 0x1bef0dbc2b0>,\n",
       "  <matplotlib.text.Text at 0x1bef0e520b8>])"
      ]
     },
     "execution_count": 80,
     "metadata": {},
     "output_type": "execute_result"
    },
    {
     "data": {
      "image/png": "[encoded data removed]",
      "text/plain": [
       "<matplotlib.figure.Figure at 0x1beef8fda90>"
      ]
     },
     "metadata": {},
     "output_type": "display_data"
    },
    {
     "data": {
      "image/png": "[encoded data removed]",
      "text/plain": [
       "<matplotlib.figure.Figure at 0x1bef0d3be48>"
      ]
     },
     "metadata": {},
     "output_type": "display_data"
    }
   ],
   "source": [
    "# Did Travelling along with family affect the survival of the passenger\n",
    "#No data cleaning is performed on the SibSp and PArch columns since there are no null values \n",
    "\n",
    "# The below function calculates the probability of survival based on the values\n",
    "def Prob_survival(data):\n",
    "    return (data.sum()/data.count())\n",
    "\n",
    "#Creating a new column to  classify people travelling Solo and With family\n",
    "Titanic_df['Family']= Titanic_df['SibSp']+Titanic_df['Parch']\n",
    "Titanic_df['Family']= np.where(Titanic_df['Family'] !=0,'With Family','Travel Solo')\n",
    "Survived_grouped_family = Titanic_df.groupby(['Family'])['Survived']\n",
    "Prob_Survival_Family = Survived_grouped_family.apply(Prob_survival)\n",
    "print ((\"\\t\")+(\"#Survived\")+(\"  \")+(\"#Onboard\"))\n",
    "print(Survived_grouped_family.agg([np.sum,len]))\n",
    "print (\"Probability of survival based on \")\n",
    "print (Prob_Survival_Family)\n",
    "\n",
    "#Depicting the Survial data as a % factor (probability) in a pie chart\n",
    "plt.figure(0)\n",
    "labels1 = 'Survived-Family','Dead-Family'\n",
    "Sizes1 = Prob_Survival_Family[1] ,1-Prob_Survival_Family[1]\n",
    "colors1 = ['gold', 'yellowgreen']\n",
    "plt.pie(Sizes1,labels=labels1, colors=colors1,\n",
    "        autopct='%1.1f%%', shadow=True, startangle=90)\n",
    "plt.figure(1)\n",
    "labels2 = 'Survived-Solo','Dead-Solo'\n",
    "Sizes2 = Prob_Survival_Family[0] ,1-Prob_Survival_Family[0]\n",
    "colors2 = ['lightblue', 'lightcoral']\n",
    "plt.pie(Sizes2,labels=labels2, colors=colors2,\n",
    "        autopct='%1.1f%%', shadow=True, startangle=90)"
   ]
  },
  {
   "cell_type": "markdown",
   "metadata": {},
   "source": [
    "### OBSERVATION 2\n",
    "The probability of survival is close to 0.5 when you are together with family as against travelling solo which is much lesser to only 0.3"
   ]
  },
  {
   "cell_type": "markdown",
   "metadata": {},
   "source": [
    "#### Analysing the Socio economic status\n",
    "\n",
    "\n",
    "There are 687 (from the below statements result)rows for which the Value is not available.\n",
    "\n",
    "An attempt was made to decipher the cabin class based on the ticket number but since the Nan values are much higher \n",
    "\n",
    "this column has been omitted from any further analysis.\n"
   ]
  },
  {
   "cell_type": "code",
   "execution_count": 81,
   "metadata": {
    "collapsed": false
   },
   "outputs": [
    {
     "name": "stdout",
     "output_type": "stream",
     "text": [
      "687\n"
     ]
    }
   ],
   "source": [
    "\n",
    "Null_values_cabin = Titanic_df['Cabin'].isnull().sum()\n",
    "print(Null_values_cabin)\n",
    " "
   ]
  },
  {
   "cell_type": "code",
   "execution_count": 82,
   "metadata": {
    "collapsed": false
   },
   "outputs": [
    {
     "data": {
      "text/plain": [
       "Pclass       \n",
       "1       count    216.000000\n",
       "        mean      84.154687\n",
       "        std       78.380373\n",
       "        min        0.000000\n",
       "        25%       30.923950\n",
       "        50%       60.287500\n",
       "        75%       93.500000\n",
       "        max      512.329200\n",
       "2       count    184.000000\n",
       "        mean      20.662183\n",
       "        std       13.417399\n",
       "        min        0.000000\n",
       "        25%       13.000000\n",
       "        50%       14.250000\n",
       "        75%       26.000000\n",
       "        max       73.500000\n",
       "3       count    491.000000\n",
       "        mean      13.675550\n",
       "        std       11.778142\n",
       "        min        0.000000\n",
       "        25%        7.750000\n",
       "        50%        8.050000\n",
       "        75%       15.500000\n",
       "        max       69.550000\n",
       "Name: Fare, dtype: float64"
      ]
     },
     "execution_count": 82,
     "metadata": {},
     "output_type": "execute_result"
    }
   ],
   "source": [
    "# checking the correlation between the Passenger class and the ticket fare paid\n",
    "Titanic_df.groupby(['Pclass'])['Fare'].describe()"
   ]
  },
  {
   "cell_type": "code",
   "execution_count": 71,
   "metadata": {
    "collapsed": false
   },
   "outputs": [
    {
     "name": "stdout",
     "output_type": "stream",
     "text": [
      "Pclass\n",
      "1    136\n",
      "2     87\n",
      "3    119\n",
      "Name: Survived, dtype: int64\n",
      "Pclass\n",
      "1    216\n",
      "2    184\n",
      "3    491\n",
      "Name: Survived, dtype: int64\n"
     ]
    },
    {
     "data": {
      "text/plain": [
       "<seaborn.axisgrid.FacetGrid at 0x1ed6de6ef28>"
      ]
     },
     "execution_count": 71,
     "metadata": {},
     "output_type": "execute_result"
    },
    {
     "data": {
      "image/png": "[encoded data removed]",
      "text/plain": [
       "<matplotlib.figure.Figure at 0x1ed6de6e710>"
      ]
     },
     "metadata": {},
     "output_type": "display_data"
    }
   ],
   "source": [
    "print (Titanic_df.groupby(['Pclass'])['Survived'].sum())\n",
    "print (Titanic_df.groupby(['Pclass'])['Survived'].count())\n",
    "sns.factorplot(\"Pclass\",\"Survived\",order=[1,2,3],data = Titanic_df,kind = 'point')"
   ]
  },
  {
   "cell_type": "markdown",
   "metadata": {},
   "source": [
    "### OBSERVATION 3\n",
    "The survival probability of Pclass =1 is much more than the other 2 classes as per the above graphical representation"
   ]
  },
  {
   "cell_type": "code",
   "execution_count": 83,
   "metadata": {
    "collapsed": false
   },
   "outputs": [
    {
     "name": "stdout",
     "output_type": "stream",
     "text": [
      "Bucketed_Fare\n",
      "0-15        0.248908\n",
      "16-30       0.456647\n",
      "31-45       0.370370\n",
      "46-60       0.591837\n",
      "Above 60    0.636943\n",
      "Name: Survived, dtype: float64\n"
     ]
    }
   ],
   "source": [
    "#The Fare paid by each of the passengers are categoriesed to check the Survival rates\n",
    "def Grading(element):\n",
    "    if element >=0 and element<=15:\n",
    "        return '0-15'\n",
    "    elif element >=16 and element<=30:\n",
    "        return '16-30'\n",
    "    elif element >=31 and element<=45:\n",
    "        return '31-45'\n",
    "    elif element >=46 and element<=60:\n",
    "        return '46-60'\n",
    "    else:\n",
    "        return 'Above 60'\n",
    "        \n",
    "def Binning_Fare(dfSeries):\n",
    "    return dfSeries.apply(Grading)\n",
    "\n",
    "#The Continuous variable Fare is converted into Categorical variable and a new colum called Bucketed Fare is created\n",
    "Titanic_df['Bucketed_Fare']=Binning_Fare(Titanic_df['Fare']) \n",
    "\n",
    "Titanic_grouped_fare =Titanic_df.groupby(['Bucketed_Fare'])['Survived']\n",
    "Prob_Survival_Fare_group =Titanic_grouped_fare.apply(Prob_survival)\n",
    "print (Prob_Survival_Fare_group)"
   ]
  },
  {
   "cell_type": "markdown",
   "metadata": {
    "collapsed": true
   },
   "source": [
    "### OBSERVATION 4\n",
    "The survival rates are clearly more than 50% for passengers who have paid a fare >45 for their ticket"
   ]
  },
  {
   "cell_type": "code",
   "execution_count": 84,
   "metadata": {
    "collapsed": false
   },
   "outputs": [
    {
     "name": "stdout",
     "output_type": "stream",
     "text": [
      "Pclass  Bucketed_Fare\n",
      "1       0-15             False\n",
      "        16-30             True\n",
      "        31-45            False\n",
      "        46-60             True\n",
      "        Above 60          True\n",
      "2       0-15             False\n",
      "        16-30             True\n",
      "        31-45             True\n",
      "        Above 60         False\n",
      "3       0-15             False\n",
      "        16-30            False\n",
      "        31-45            False\n",
      "        46-60            False\n",
      "        Above 60         False\n",
      "Name: Survived, dtype: bool\n"
     ]
    }
   ],
   "source": [
    "# Grouping the data based on the Fare and PClass parameters\n",
    "Titanic_grouped_fareclass =Titanic_df.groupby(['Pclass','Bucketed_Fare'])['Survived']\n",
    "Prob_Survival_Fareclass_group =Titanic_grouped_fareclass.apply(Prob_survival)\n",
    "print (Prob_Survival_Fareclass_group >0.5)"
   ]
  },
  {
   "cell_type": "markdown",
   "metadata": {},
   "source": [
    "### OBSERVATION 5\n",
    "Clubbing the Pclass and the BinnnedFares ,we can observe that the probability of survival \n",
    "is above 50% for Pclass 1 and 2 and also when the fares are relatively on a higher side .\n",
    "A fare of (0-15)has not survived in any of the Classes "
   ]
  },
  {
   "cell_type": "code",
   "execution_count": 85,
   "metadata": {
    "collapsed": false
   },
   "outputs": [
    {
     "data": {
      "text/plain": [
       "Embarked\n",
       "C    0.553571\n",
       "Q    0.389610\n",
       "S    0.336957\n",
       "Name: Survived, dtype: float64"
      ]
     },
     "execution_count": 85,
     "metadata": {},
     "output_type": "execute_result"
    }
   ],
   "source": [
    "# Checking if the port of Embarkation affect the Survival-No null values to be addressed.\n",
    "\n",
    "Titanic_df.groupby(['Embarked'])['Survived'].sum()/Titanic_df.groupby(['Embarked'])['Survived'].count()\n"
   ]
  },
  {
   "cell_type": "code",
   "execution_count": 86,
   "metadata": {
    "collapsed": false
   },
   "outputs": [
    {
     "name": "stdout",
     "output_type": "stream",
     "text": [
      "\t#Survived  #Onboard\n",
      "          sum  len\n",
      "Embarked          \n",
      "C          93  168\n",
      "Q          30   77\n",
      "S         217  644\n"
     ]
    },
    {
     "data": {
      "text/plain": [
       "<matplotlib.legend.Legend at 0x1bef0b01d68>"
      ]
     },
     "execution_count": 86,
     "metadata": {},
     "output_type": "execute_result"
    },
    {
     "data": {
      "image/png": "[encoded data removed]",
      "text/plain": [
       "<matplotlib.figure.Figure at 0x1bef0b1bef0>"
      ]
     },
     "metadata": {},
     "output_type": "display_data"
    }
   ],
   "source": [
    "Survival_grouped_Embarked =Titanic_df.groupby(['Embarked'])['Survived']\n",
    "Survival_grouped_Embarked_Sum =Survival_grouped_Embarked.sum()\n",
    "Survival_grouped_Embarked_Count =Survival_grouped_Embarked.count()\n",
    "\n",
    "#Printing the statisctics in numbers\n",
    "print ((\"\\t\")+(\"#Survived\")+(\"  \")+(\"#Onboard\"))\n",
    "print (Survival_grouped_Embarked.agg([np.sum,len]))\n",
    "\n",
    "#Axis setting  a bar-chart to show the comparison\n",
    "X_axis = ('Cherbourg','Queenstown','Southampton')\n",
    "x_pos = np.arange(len(X_axis))\n",
    "#Values for the y -axis in an array\n",
    "Total_Count = Survival_grouped_Embarked_Count.values\n",
    "Survived_Count = Survival_grouped_Embarked_Sum.values\n",
    "#Setting the chart parametres\n",
    "bar_width = 0.35\n",
    "plt.bar(x_pos, Total_Count, bar_width, align='center',alpha=0.5,color='c')\n",
    "plt.bar(x_pos+bar_width, Survived_Count, bar_width, align='center', alpha=0.5,color='g')\n",
    "plt.xticks(x_pos, X_axis)\n",
    "plt.ylabel('Count of passengers')\n",
    "plt.title('Barchart as a comparison between population and survival based on Embarkation Port'+'\\n')\n",
    "#For the Legend\n",
    "cyan_patch = mpatches.Patch(color='c',alpha=0.5, label = 'Count of Pax')\n",
    "green_patch = mpatches.Patch(color='g',alpha=0.5,label = 'Survived')\n",
    "plt.legend(handles=[cyan_patch,green_patch],loc=0)\n"
   ]
  },
  {
   "cell_type": "markdown",
   "metadata": {},
   "source": [
    "### OBSERVATION 6\n",
    "From the above chart it is evident that the people who embarked on Cherbourg had a better Survival rate than those from other ports"
   ]
  },
  {
   "cell_type": "code",
   "execution_count": 91,
   "metadata": {
    "collapsed": false
   },
   "outputs": [
    {
     "name": "stdout",
     "output_type": "stream",
     "text": [
      "\t#Survived  #Onboard\n",
      "               sum  len\n",
      "Title                  \n",
      " Capt            0    1\n",
      " Col             1    2\n",
      " Don             0    1\n",
      " Dr              3    7\n",
      " Jonkheer        0    1\n",
      " Lady            1    1\n",
      " Major           1    2\n",
      " Master         23   40\n",
      " Miss          127  182\n",
      " Mlle            2    2\n",
      " Mme             1    1\n",
      " Mr             81  517\n",
      " Mrs            99  125\n",
      " Ms              1    1\n",
      " Rev             0    6\n",
      " Sir             1    1\n",
      " the Countess    1    1\n",
      "\t\tProbability\n",
      "Title\n",
      " Capt            0.000000\n",
      " Col             0.500000\n",
      " Don             0.000000\n",
      " Dr              0.428571\n",
      " Jonkheer        0.000000\n",
      " Lady            1.000000\n",
      " Major           0.500000\n",
      " Master          0.575000\n",
      " Miss            0.697802\n",
      " Mlle            1.000000\n",
      " Mme             1.000000\n",
      " Mr              0.156673\n",
      " Mrs             0.792000\n",
      " Ms              1.000000\n",
      " Rev             0.000000\n",
      " Sir             1.000000\n",
      " the Countess    1.000000\n",
      "Name: Survived, dtype: float64\n"
     ]
    }
   ],
   "source": [
    "#Group by the name Title to check if there is any correlation\n",
    "Titanic_group_Title =Titanic_df.groupby(['Title'])['Survived']\n",
    "Prob_grouped_Title =Titanic_group_Title.apply(Prob_survival)\n",
    "print ((\"\\t\")+(\"#Survived\")+(\"  \")+(\"#Onboard\"))\n",
    "print (Titanic_group_Title.agg([np.sum,len]))\n",
    "print ((\"\\t\\t\")+(\"Probability\"))\n",
    "print (Prob_grouped_Title)\n"
   ]
  },
  {
   "cell_type": "markdown",
   "metadata": {},
   "source": [
    "#### OBSERVATION 7\n",
    "From the above statistics it is observed that the ones with Title 'Mr' are less likely to survive as against salutations like Miss/Mrs/Master. \n",
    "\n",
    "The count of other Titles are very less to come up with  significant association towards the Survival pattern"
   ]
  },
  {
   "cell_type": "code",
   "execution_count": 76,
   "metadata": {
    "collapsed": false
   },
   "outputs": [
    {
     "name": "stdout",
     "output_type": "stream",
     "text": [
      "Sex     Adult_Child  Family       Pclass  Embarked\n",
      "female  A            Travel Solo  1       C            True\n",
      "                                          S            True\n",
      "                                  2       C            True\n",
      "                                          Q            True\n",
      "                                          S            True\n",
      "                                  3       C            True\n",
      "                                          Q            True\n",
      "                                          S           False\n",
      "                     With Family  1       C            True\n",
      "                                          Q            True\n",
      "                                          S            True\n",
      "                                  2       C            True\n",
      "                                          S            True\n",
      "                                  3       C           False\n",
      "                                          Q            True\n",
      "                                          S           False\n",
      "        C            Travel Solo  3       C            True\n",
      "                                          S           False\n",
      "                     With Family  1       S           False\n",
      "                                  2       C            True\n",
      "                                          S            True\n",
      "                                  3       C            True\n",
      "                                          S           False\n",
      "male    A            Travel Solo  1       C           False\n",
      "                                          S           False\n",
      "                                  2       C           False\n",
      "                                          Q           False\n",
      "                                          S           False\n",
      "                                  3       C           False\n",
      "                                          Q           False\n",
      "                                          S           False\n",
      "                     With Family  1       C           False\n",
      "                                          Q           False\n",
      "                                          S           False\n",
      "                                  2       C           False\n",
      "                                          S           False\n",
      "                                  3       C           False\n",
      "                                          Q           False\n",
      "                                          S           False\n",
      "        C            Travel Solo  3       C           False\n",
      "                     With Family  1       S            True\n",
      "                                  2       C            True\n",
      "                                          S            True\n",
      "                                  3       C            True\n",
      "                                          Q           False\n",
      "                                          S           False\n",
      "Name: Survived, dtype: bool\n"
     ]
    }
   ],
   "source": [
    "#Combining all the above factors we can check if we can arrive at a drilled down correlation.\n",
    "#Dropping the Fare categorisation for the below\n",
    "\n",
    "Titanic_grouped_various =Titanic_df.groupby(['Sex','Adult_Child','Family','Pclass','Embarked'])['Survived']\n",
    "Prob_Survival_various_group =Titanic_grouped_various.apply(Prob_survival)\n",
    "# Checking for the ones with at least a minimum of 50% Survival\n",
    "print (Prob_Survival_various_group >0.50)\n"
   ]
  },
  {
   "cell_type": "markdown",
   "metadata": {},
   "source": [
    "### Conclusions:\n",
    " The above analysis shows a relation between the dependent variable \n",
    "Survived and the independent variables Age(Adult_child),Sex,Pclass,Embarkation port,Family presence\n",
    "\n",
    "It is indicative  from the above data that women adult of class 1 and 2 had a better chance of survival and \n",
    "Children  irrespective of other factors had a better chance of survival.\n",
    "The Pclass and Port of embarkation  did also to an extent offer some association\n",
    "However further statistical tests are required to find out the significance of the corelation"
   ]
  },
  {
   "cell_type": "markdown",
   "metadata": {
    "collapsed": true
   },
   "source": [
    "#### REFERENCES\n",
    "1.https://www.encyclopedia-titanica.org/children-on-titanic/\n",
    "        \n",
    "2.http://matplotlib.org/api/pyplot_api.html\n",
    "    \n",
    "3.https://www.kaggle.com/c/titanic\n",
    "\n",
    "    "
   ]
  },
  {
   "cell_type": "code",
   "execution_count": null,
   "metadata": {
    "collapsed": true
   },
   "outputs": [],
   "source": []
  }
 ],
 "metadata": {
  "anaconda-cloud": {},
  "kernelspec": {
   "display_name": "Python [conda root]",
   "language": "python",
   "name": "conda-root-py"
  },
  "language_info": {
   "codemirror_mode": {
    "name": "ipython",
    "version": 3
   },
   "file_extension": ".py",
   "mimetype": "text/x-python",
   "name": "python",
   "nbconvert_exporter": "python",
   "pygments_lexer": "ipython3",
   "version": "3.5.2"
  }
 },
 "nbformat": 4,
 "nbformat_minor": 1
}
